{
 "cells": [
  {
   "cell_type": "markdown",
   "metadata": {},
   "source": [
    "# Exercise 1.05: Finding the Shortest Path Using BFS\n",
    "\n",
    "In this exercise, we will be finding the shortest path to our goal using the BFS algorithm."
   ]
  },
  {
   "cell_type": "markdown",
   "metadata": {},
   "source": [
    "1.- Begin by importing the math library"
   ]
  },
  {
   "cell_type": "code",
   "execution_count": 1,
   "metadata": {},
   "outputs": [],
   "source": [
    "import math"
   ]
  },
  {
   "cell_type": "markdown",
   "metadata": {},
   "source": [
    "2.- Describe the board of the Figure 1.14, the initial state, and the final state using Python.\n",
    "\n",
    "  > **Hints**  \n",
    "  >  * Create a function that returns a list of possible successors. Use tuples, where the first coordinate denotes the row number from $1$ to $7$ and the second coordinate denotes the column number from $1$ to $9$. Then use array comprehension to generate the successor states.\n",
    "  >  * The function generate all the possible moves from a current field that does not end up being blocked by an obstacle. Also add a filter to exclude moves that return to a field visited already to avoid infinite loops.\n",
    "  "
   ]
  },
  {
   "cell_type": "code",
   "execution_count": 33,
   "metadata": {},
   "outputs": [],
   "source": [
    "tupla = (7,9)\n",
    "fila = (5,3)\n",
    "columna = (6,9)\n",
    "board_obs = {(3,4),(3,5),(3,6),(3,7),(3,8),(4,5),(5,5),(5,7),(5,9),(6,2),(6,3),(6,4),(6,5),(6,7),(7,7)}\n",
    "\n",
    "def possibleSuccessors(estado, nodo):\n",
    "    (row, col) = estado\n",
    "    (f_maxima, col_maxima) = tupla\n",
    "    estate_successors = []\n",
    "    if row > 1:\n",
    "        estate_successors += [(row-1),(col)]\n",
    "    if col > 1:\n",
    "        estate_successors += [(row),(col-1)]\n",
    "    if row < f_maxima:\n",
    "        estate_successors += [(row+1),(col)]\n",
    "    if row < col_maxima:\n",
    "        estate_successors += [(row),(col+1)]\n",
    "    \n",
    "    return [i for i in estate_successors if i not in nodo if i not in board_obs]"
   ]
  },
  {
   "cell_type": "markdown",
   "metadata": {},
   "source": [
    "3.-  Implement the initial costs"
   ]
  },
  {
   "cell_type": "code",
   "execution_count": 10,
   "metadata": {},
   "outputs": [],
   "source": [
    "def initialCosts(tupla, fila):\n",
    "    (height, weight) = tupla\n",
    "    costos = [[math.inf] * weight for i in range(height)]\n",
    "    (x,y) = fila\n",
    "    costos[x-1][y-1] = 0\n",
    "    return costos"
   ]
  },
  {
   "cell_type": "markdown",
   "metadata": {},
   "source": [
    "4.- Implement the updated costs using `costs`, `current_node`, and `successor_node`"
   ]
  },
  {
   "cell_type": "code",
   "execution_count": 35,
   "metadata": {},
   "outputs": [],
   "source": [
    "def updatedCosts(costos, current_node, successor_node):\n",
    "    costo_nuevo = costos[current_node[0]-1] \\\n",
    "    [current_node[1]-1] + 1\n",
    "    for (x, y) in zip(current_node,successor_node):\n",
    "        print(x, y)\n",
    "        costos[x-1][y-1] = min(costos[x-1][y-1], costo_nuevo)\n",
    "        #return 0,0"
   ]
  },
  {
   "cell_type": "markdown",
   "metadata": {},
   "source": [
    "5.- Finally, implement the BFS algorithm to search the state of the tree and save the result in a variable called `bfs`.\n",
    "\n",
    "  > **Hints**  \n",
    "  > You can reuse the `bfs_tree` function that we looked at earlier in the Breadth First Search section. However, add the `update_costs` function to update the costs.\n",
    "\n",
    "The expected output is this:\n",
    "\n",
    "```\n",
    "[[6, 5, 4, 5, 6, 7, 8, 9, 10],\n",
    " [5, 4, 3, 4, 5, 6, 7, 8, 9],\n",
    " [4, 3, 2, inf, inf, inf, inf, inf, 10],\n",
    " [3, 2, 1, 2, inf, 12, 13, 12, 11],\n",
    " [2, 1, 0, 1, inf, 11, inf, 13, inf],\n",
    " [3, inf, inf, inf, inf, 10, inf, 14, 15],\n",
    " [4, 5, 6, 7, 8, 9, inf, 15, 16]]\n",
    "```"
   ]
  },
  {
   "cell_type": "code",
   "execution_count": 36,
   "metadata": {},
   "outputs": [
    {
     "name": "stdout",
     "output_type": "stream",
     "text": [
      "5 4\n",
      "3 3\n"
     ]
    },
    {
     "ename": "TypeError",
     "evalue": "cannot unpack non-iterable int object",
     "output_type": "error",
     "traceback": [
      "\u001b[0;31m---------------------------------------------------------------------------\u001b[0m",
      "\u001b[0;31mTypeError\u001b[0m                                 Traceback (most recent call last)",
      "\u001b[0;32m<ipython-input-36-41c568ff1cd5>\u001b[0m in \u001b[0;36m<module>\u001b[0;34m\u001b[0m\n\u001b[1;32m     12\u001b[0m     \u001b[0;32mreturn\u001b[0m \u001b[0mcostos\u001b[0m\u001b[0;34m\u001b[0m\u001b[0;34m\u001b[0m\u001b[0m\n\u001b[1;32m     13\u001b[0m \u001b[0;34m\u001b[0m\u001b[0m\n\u001b[0;32m---> 14\u001b[0;31m \u001b[0mbfs_v\u001b[0m \u001b[0;34m=\u001b[0m \u001b[0mbfs_tree\u001b[0m\u001b[0;34m(\u001b[0m\u001b[0mfila\u001b[0m\u001b[0;34m)\u001b[0m\u001b[0;34m\u001b[0m\u001b[0;34m\u001b[0m\u001b[0m\n\u001b[0m\u001b[1;32m     15\u001b[0m \u001b[0mbfs_v\u001b[0m\u001b[0;34m\u001b[0m\u001b[0;34m\u001b[0m\u001b[0m\n",
      "\u001b[0;32m<ipython-input-36-41c568ff1cd5>\u001b[0m in \u001b[0;36mbfs_tree\u001b[0;34m(nodo)\u001b[0m\n\u001b[1;32m      6\u001b[0m         \u001b[0mnodoActual\u001b[0m \u001b[0;34m=\u001b[0m \u001b[0mvisitarNodo\u001b[0m\u001b[0;34m.\u001b[0m\u001b[0mpop\u001b[0m\u001b[0;34m(\u001b[0m\u001b[0;36m0\u001b[0m\u001b[0;34m)\u001b[0m\u001b[0;34m\u001b[0m\u001b[0;34m\u001b[0m\u001b[0m\n\u001b[1;32m      7\u001b[0m         \u001b[0mnodosVisitados\u001b[0m\u001b[0;34m.\u001b[0m\u001b[0mappend\u001b[0m\u001b[0;34m(\u001b[0m\u001b[0mnodoActual\u001b[0m\u001b[0;34m)\u001b[0m\u001b[0;34m\u001b[0m\u001b[0;34m\u001b[0m\u001b[0m\n\u001b[0;32m----> 8\u001b[0;31m         \u001b[0mnodoSiguiente\u001b[0m \u001b[0;34m=\u001b[0m \u001b[0mpossibleSuccessors\u001b[0m\u001b[0;34m(\u001b[0m\u001b[0mnodoActual\u001b[0m\u001b[0;34m,\u001b[0m \u001b[0mnodosVisitados\u001b[0m\u001b[0;34m)\u001b[0m\u001b[0;34m\u001b[0m\u001b[0;34m\u001b[0m\u001b[0m\n\u001b[0m\u001b[1;32m      9\u001b[0m         \u001b[0mupdatedCosts\u001b[0m\u001b[0;34m(\u001b[0m\u001b[0mcostos\u001b[0m\u001b[0;34m,\u001b[0m \u001b[0mnodoActual\u001b[0m\u001b[0;34m,\u001b[0m \u001b[0mnodoSiguiente\u001b[0m\u001b[0;34m)\u001b[0m\u001b[0;34m\u001b[0m\u001b[0;34m\u001b[0m\u001b[0m\n\u001b[1;32m     10\u001b[0m         \u001b[0mvisitarNodo\u001b[0m\u001b[0;34m.\u001b[0m\u001b[0mextend\u001b[0m\u001b[0;34m(\u001b[0m\u001b[0mnodoSiguiente\u001b[0m\u001b[0;34m)\u001b[0m\u001b[0;34m\u001b[0m\u001b[0;34m\u001b[0m\u001b[0m\n",
      "\u001b[0;32m<ipython-input-33-852f55e78e72>\u001b[0m in \u001b[0;36mpossibleSuccessors\u001b[0;34m(estado, nodo)\u001b[0m\n\u001b[1;32m      5\u001b[0m \u001b[0;34m\u001b[0m\u001b[0m\n\u001b[1;32m      6\u001b[0m \u001b[0;32mdef\u001b[0m \u001b[0mpossibleSuccessors\u001b[0m\u001b[0;34m(\u001b[0m\u001b[0mestado\u001b[0m\u001b[0;34m,\u001b[0m \u001b[0mnodo\u001b[0m\u001b[0;34m)\u001b[0m\u001b[0;34m:\u001b[0m\u001b[0;34m\u001b[0m\u001b[0;34m\u001b[0m\u001b[0m\n\u001b[0;32m----> 7\u001b[0;31m     \u001b[0;34m(\u001b[0m\u001b[0mrow\u001b[0m\u001b[0;34m,\u001b[0m \u001b[0mcol\u001b[0m\u001b[0;34m)\u001b[0m \u001b[0;34m=\u001b[0m \u001b[0mestado\u001b[0m\u001b[0;34m\u001b[0m\u001b[0;34m\u001b[0m\u001b[0m\n\u001b[0m\u001b[1;32m      8\u001b[0m     \u001b[0;34m(\u001b[0m\u001b[0mf_maxima\u001b[0m\u001b[0;34m,\u001b[0m \u001b[0mcol_maxima\u001b[0m\u001b[0;34m)\u001b[0m \u001b[0;34m=\u001b[0m \u001b[0mtupla\u001b[0m\u001b[0;34m\u001b[0m\u001b[0;34m\u001b[0m\u001b[0m\n\u001b[1;32m      9\u001b[0m     \u001b[0mestate_successors\u001b[0m \u001b[0;34m=\u001b[0m \u001b[0;34m[\u001b[0m\u001b[0;34m]\u001b[0m\u001b[0;34m\u001b[0m\u001b[0;34m\u001b[0m\u001b[0m\n",
      "\u001b[0;31mTypeError\u001b[0m: cannot unpack non-iterable int object"
     ]
    }
   ],
   "source": [
    "def bfs_tree(nodo):\n",
    "    visitarNodo = [nodo]\n",
    "    nodosVisitados = []\n",
    "    costos = initialCosts(tupla, fila)\n",
    "    while len(visitarNodo) > 0:\n",
    "        nodoActual = visitarNodo.pop(0)\n",
    "        nodosVisitados.append(nodoActual)\n",
    "        nodoSiguiente = possibleSuccessors(nodoActual, nodosVisitados)\n",
    "        updatedCosts(costos, nodoActual, nodoSiguiente)\n",
    "        visitarNodo.extend(nodoSiguiente)\n",
    "    return costos\n",
    "\n",
    "bfs_v = bfs_tree(fila)\n",
    "bfs_v"
   ]
  },
  {
   "cell_type": "markdown",
   "metadata": {},
   "source": [
    "6.- Measure the number of steps required to find the goal node and save the result in the bfs_v variable.\n",
    "\n",
    "  > **Hints**  \n",
    "  > Re define the `bfs_tree` and add a step counter variable in order to print the number of steps at the end of the search\n",
    "  \n",
    "Output\n",
    "\n",
    "```\n",
    "End node has been reached in 110 steps\n",
    "[[6, 5, 4, 5, 6, 7, 8, 9, 10],\n",
    " [5, 4, 3, 4, 5, 6, 7, 8, 9],\n",
    " [4, 3, 2, inf, inf, inf, inf, inf, 10],\n",
    " [3, 2, 1, 2, inf, 12, 13, 12, 11],\n",
    " [2, 1, 0, 1, inf, 11, inf, 13, inf],\n",
    " [3, inf, inf, inf, inf, 10, inf, 14, 15],\n",
    " [4, 5, 6, 7, 8, 9, inf, 15, 16]]\n",
    "```"
   ]
  },
  {
   "cell_type": "code",
   "execution_count": 37,
   "metadata": {},
   "outputs": [
    {
     "name": "stdout",
     "output_type": "stream",
     "text": [
      "5 4\n",
      "3 3\n"
     ]
    },
    {
     "ename": "TypeError",
     "evalue": "cannot unpack non-iterable int object",
     "output_type": "error",
     "traceback": [
      "\u001b[0;31m---------------------------------------------------------------------------\u001b[0m",
      "\u001b[0;31mTypeError\u001b[0m                                 Traceback (most recent call last)",
      "\u001b[0;32m<ipython-input-37-8c3cd048a44a>\u001b[0m in \u001b[0;36m<module>\u001b[0;34m\u001b[0m\n\u001b[1;32m     16\u001b[0m     \u001b[0;32mreturn\u001b[0m \u001b[0mcostos\u001b[0m\u001b[0;34m\u001b[0m\u001b[0;34m\u001b[0m\u001b[0m\n\u001b[1;32m     17\u001b[0m \u001b[0;34m\u001b[0m\u001b[0m\n\u001b[0;32m---> 18\u001b[0;31m \u001b[0mbfs_v\u001b[0m \u001b[0;34m=\u001b[0m \u001b[0mbfs_tree_number_steps\u001b[0m\u001b[0;34m(\u001b[0m\u001b[0mfila\u001b[0m\u001b[0;34m)\u001b[0m\u001b[0;34m\u001b[0m\u001b[0;34m\u001b[0m\u001b[0m\n\u001b[0m\u001b[1;32m     19\u001b[0m \u001b[0mbfs_v\u001b[0m\u001b[0;34m\u001b[0m\u001b[0;34m\u001b[0m\u001b[0m\n",
      "\u001b[0;32m<ipython-input-37-8c3cd048a44a>\u001b[0m in \u001b[0;36mbfs_tree_number_steps\u001b[0;34m(nodo)\u001b[0m\n\u001b[1;32m      8\u001b[0m         \u001b[0mnodoActual\u001b[0m \u001b[0;34m=\u001b[0m \u001b[0mvisitarNodo\u001b[0m\u001b[0;34m.\u001b[0m\u001b[0mpop\u001b[0m\u001b[0;34m(\u001b[0m\u001b[0;36m0\u001b[0m\u001b[0;34m)\u001b[0m\u001b[0;34m\u001b[0m\u001b[0;34m\u001b[0m\u001b[0m\n\u001b[1;32m      9\u001b[0m         \u001b[0mnodosVisitados\u001b[0m\u001b[0;34m.\u001b[0m\u001b[0mappend\u001b[0m\u001b[0;34m(\u001b[0m\u001b[0mnodoActual\u001b[0m\u001b[0;34m)\u001b[0m\u001b[0;34m\u001b[0m\u001b[0;34m\u001b[0m\u001b[0m\n\u001b[0;32m---> 10\u001b[0;31m         \u001b[0mnodoSiguiente\u001b[0m \u001b[0;34m=\u001b[0m \u001b[0mpossibleSuccessors\u001b[0m\u001b[0;34m(\u001b[0m\u001b[0mnodoActual\u001b[0m\u001b[0;34m,\u001b[0m \u001b[0mnodosVisitados\u001b[0m\u001b[0;34m)\u001b[0m\u001b[0;34m\u001b[0m\u001b[0;34m\u001b[0m\u001b[0m\n\u001b[0m\u001b[1;32m     11\u001b[0m         \u001b[0mupdatedCosts\u001b[0m\u001b[0;34m(\u001b[0m\u001b[0mcostos\u001b[0m\u001b[0;34m,\u001b[0m \u001b[0mnodoActual\u001b[0m\u001b[0;34m,\u001b[0m \u001b[0mnodoSiguiente\u001b[0m\u001b[0;34m)\u001b[0m\u001b[0;34m\u001b[0m\u001b[0;34m\u001b[0m\u001b[0m\n\u001b[1;32m     12\u001b[0m         \u001b[0mvisitarNodo\u001b[0m\u001b[0;34m.\u001b[0m\u001b[0mextend\u001b[0m\u001b[0;34m(\u001b[0m\u001b[0mnodoSiguiente\u001b[0m\u001b[0;34m)\u001b[0m\u001b[0;34m\u001b[0m\u001b[0;34m\u001b[0m\u001b[0m\n",
      "\u001b[0;32m<ipython-input-33-852f55e78e72>\u001b[0m in \u001b[0;36mpossibleSuccessors\u001b[0;34m(estado, nodo)\u001b[0m\n\u001b[1;32m      5\u001b[0m \u001b[0;34m\u001b[0m\u001b[0m\n\u001b[1;32m      6\u001b[0m \u001b[0;32mdef\u001b[0m \u001b[0mpossibleSuccessors\u001b[0m\u001b[0;34m(\u001b[0m\u001b[0mestado\u001b[0m\u001b[0;34m,\u001b[0m \u001b[0mnodo\u001b[0m\u001b[0;34m)\u001b[0m\u001b[0;34m:\u001b[0m\u001b[0;34m\u001b[0m\u001b[0;34m\u001b[0m\u001b[0m\n\u001b[0;32m----> 7\u001b[0;31m     \u001b[0;34m(\u001b[0m\u001b[0mrow\u001b[0m\u001b[0;34m,\u001b[0m \u001b[0mcol\u001b[0m\u001b[0;34m)\u001b[0m \u001b[0;34m=\u001b[0m \u001b[0mestado\u001b[0m\u001b[0;34m\u001b[0m\u001b[0;34m\u001b[0m\u001b[0m\n\u001b[0m\u001b[1;32m      8\u001b[0m     \u001b[0;34m(\u001b[0m\u001b[0mf_maxima\u001b[0m\u001b[0;34m,\u001b[0m \u001b[0mcol_maxima\u001b[0m\u001b[0;34m)\u001b[0m \u001b[0;34m=\u001b[0m \u001b[0mtupla\u001b[0m\u001b[0;34m\u001b[0m\u001b[0;34m\u001b[0m\u001b[0m\n\u001b[1;32m      9\u001b[0m     \u001b[0mestate_successors\u001b[0m \u001b[0;34m=\u001b[0m \u001b[0;34m[\u001b[0m\u001b[0;34m]\u001b[0m\u001b[0;34m\u001b[0m\u001b[0;34m\u001b[0m\u001b[0m\n",
      "\u001b[0;31mTypeError\u001b[0m: cannot unpack non-iterable int object"
     ]
    }
   ],
   "source": [
    "def bfs_tree_number_steps(nodo):\n",
    "    visitarNodo = [nodo]\n",
    "    nodosVisitados = []\n",
    "    costos = initialCosts(tupla, fila)\n",
    "    pasos_count = 0\n",
    "    while len(visitarNodo) > 0:\n",
    "        pasos_count += 1\n",
    "        nodoActual = visitarNodo.pop(0)\n",
    "        nodosVisitados.append(nodoActual)\n",
    "        nodoSiguiente = possibleSuccessors(nodoActual, nodosVisitados)\n",
    "        updatedCosts(costos, nodoActual, nodoSiguiente)\n",
    "        visitarNodo.extend(nodoSiguiente)\n",
    "        if nodoActual == columna:\n",
    "            print(\"termina en \", pasos_count, \"pasos\")\n",
    "            return costos\n",
    "    return costos\n",
    "\n",
    "bfs_v = bfs_tree_number_steps(fila)\n",
    "bfs_v"
   ]
  },
  {
   "cell_type": "markdown",
   "metadata": {},
   "source": [
    "In this exercise, we used the BFS algorithm to find the shortest path to the goal. It took BFS 110 steps to reach the goal. Now, we will learn about an algorithm that can find the shortest path from the start node to the goal node: the A* algorithm."
   ]
  },
  {
   "cell_type": "code",
   "execution_count": null,
   "metadata": {},
   "outputs": [],
   "source": []
  }
 ],
 "metadata": {
  "kernelspec": {
   "display_name": "Python 3",
   "language": "python",
   "name": "python3"
  },
  "language_info": {
   "codemirror_mode": {
    "name": "ipython",
    "version": 3
   },
   "file_extension": ".py",
   "mimetype": "text/x-python",
   "name": "python",
   "nbconvert_exporter": "python",
   "pygments_lexer": "ipython3",
   "version": "3.8.5"
  }
 },
 "nbformat": 4,
 "nbformat_minor": 4
}
